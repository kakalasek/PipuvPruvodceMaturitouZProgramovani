{
 "cells": [
  {
   "cell_type": "markdown",
   "id": "635968e3",
   "metadata": {},
   "source": [
    "# Strojové učení - Příprava dat, Chyby v datech a bias, Korelace a kauzalita"
   ]
  },
  {
   "cell_type": "markdown",
   "id": "41ed86fd",
   "metadata": {},
   "source": [
    "## Úvod"
   ]
  },
  {
   "cell_type": "markdown",
   "id": "efdf4791",
   "metadata": {},
   "source": [
    "Příprava dat je stěžejní část v procesu strojového učení. Vlatně bych skoro řekl, že ta nejvetší a nejdůležitější. Postupně si řekneme, co všechno je potřeba udělat předtím, než se pustíme do vůběru modelu, jeho učení a ladění hyperparametrů.              "
   ]
  },
  {
   "cell_type": "code",
   "execution_count": null,
   "id": "3cfc8311",
   "metadata": {},
   "outputs": [],
   "source": []
  }
 ],
 "metadata": {
  "language_info": {
   "name": "python"
  }
 },
 "nbformat": 4,
 "nbformat_minor": 5
}
