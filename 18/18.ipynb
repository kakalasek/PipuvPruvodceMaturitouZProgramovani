{
 "cells": [
  {
   "cell_type": "markdown",
   "id": "635968e3",
   "metadata": {},
   "source": [
    "# Strojové učení s využitím regrese a klasifikace"
   ]
  },
  {
   "cell_type": "markdown",
   "id": "41ed86fd",
   "metadata": {},
   "source": [
    "## Úvod"
   ]
  },
  {
   "cell_type": "markdown",
   "id": "efdf4791",
   "metadata": {},
   "source": [
    "Co je to strojové učení a rozdíl mezi klasifikací a regresí už jsme si říkali v minulé otázce. Zde si zkusíme nějaký model vytrénovat, ukážeme si metody ladění hyperparametrů a metriky pro měření kvality modelu.                     \n",
    "Co si zde ale zmíníme je, že strojové učení lze ještě rozdělit na učení s učitelem a bez něj. Učení s učitelem je to, které budeme provádět my, známe cílovou proměnnou, můžeme model kontrolovat a ladit podle ní. V učení bez učitele cílovou proměnnou neznáme. Je to třeba hledání anomálií, nebo clustering (toho se využívá např. při zjišťování, co dále nabídnout zákazníkovy na základě toho, do jaké skupiny/clusteru patří). Ačkoliv je to velká část strojového učení, my se jí zde nebudeme zabývat. Je ale dobré o ní vědět."
   ]
  },
  {
   "cell_type": "markdown",
   "id": "848c10bf",
   "metadata": {},
   "source": [
    "**Potřebné knihovny**"
   ]
  },
  {
   "cell_type": "code",
   "execution_count": 1,
   "id": "facda9a9",
   "metadata": {},
   "outputs": [
    {
     "name": "stdout",
     "output_type": "stream",
     "text": [
      "Requirement already satisfied: ucimlrepo in c:\\users\\honzi\\appdata\\local\\packages\\pythonsoftwarefoundation.python.3.11_qbz5n2kfra8p0\\localcache\\local-packages\\python311\\site-packages (0.0.7)\n",
      "Requirement already satisfied: pandas>=1.0.0 in c:\\users\\honzi\\appdata\\local\\packages\\pythonsoftwarefoundation.python.3.11_qbz5n2kfra8p0\\localcache\\local-packages\\python311\\site-packages (from ucimlrepo) (2.2.1)\n",
      "Requirement already satisfied: certifi>=2020.12.5 in c:\\users\\honzi\\appdata\\local\\packages\\pythonsoftwarefoundation.python.3.11_qbz5n2kfra8p0\\localcache\\local-packages\\python311\\site-packages (from ucimlrepo) (2023.7.22)\n",
      "Requirement already satisfied: numpy<2,>=1.23.2 in c:\\users\\honzi\\appdata\\local\\packages\\pythonsoftwarefoundation.python.3.11_qbz5n2kfra8p0\\localcache\\local-packages\\python311\\site-packages (from pandas>=1.0.0->ucimlrepo) (1.24.3)\n",
      "Requirement already satisfied: python-dateutil>=2.8.2 in c:\\users\\honzi\\appdata\\local\\packages\\pythonsoftwarefoundation.python.3.11_qbz5n2kfra8p0\\localcache\\local-packages\\python311\\site-packages (from pandas>=1.0.0->ucimlrepo) (2.9.0.post0)\n",
      "Requirement already satisfied: pytz>=2020.1 in c:\\users\\honzi\\appdata\\local\\packages\\pythonsoftwarefoundation.python.3.11_qbz5n2kfra8p0\\localcache\\local-packages\\python311\\site-packages (from pandas>=1.0.0->ucimlrepo) (2024.1)\n",
      "Requirement already satisfied: tzdata>=2022.7 in c:\\users\\honzi\\appdata\\local\\packages\\pythonsoftwarefoundation.python.3.11_qbz5n2kfra8p0\\localcache\\local-packages\\python311\\site-packages (from pandas>=1.0.0->ucimlrepo) (2024.1)\n",
      "Requirement already satisfied: six>=1.5 in c:\\users\\honzi\\appdata\\local\\packages\\pythonsoftwarefoundation.python.3.11_qbz5n2kfra8p0\\localcache\\local-packages\\python311\\site-packages (from python-dateutil>=2.8.2->pandas>=1.0.0->ucimlrepo) (1.16.0)\n"
     ]
    },
    {
     "name": "stderr",
     "output_type": "stream",
     "text": [
      "\n",
      "[notice] A new release of pip is available: 25.0.1 -> 25.1.1\n",
      "[notice] To update, run: C:\\Users\\honzi\\AppData\\Local\\Microsoft\\WindowsApps\\PythonSoftwareFoundation.Python.3.11_qbz5n2kfra8p0\\python.exe -m pip install --upgrade pip\n"
     ]
    },
    {
     "name": "stdout",
     "output_type": "stream",
     "text": [
      "Requirement already satisfied: scikit-learn in c:\\users\\honzi\\appdata\\local\\packages\\pythonsoftwarefoundation.python.3.11_qbz5n2kfra8p0\\localcache\\local-packages\\python311\\site-packages (1.6.1)\n",
      "Requirement already satisfied: numpy>=1.19.5 in c:\\users\\honzi\\appdata\\local\\packages\\pythonsoftwarefoundation.python.3.11_qbz5n2kfra8p0\\localcache\\local-packages\\python311\\site-packages (from scikit-learn) (1.24.3)\n",
      "Requirement already satisfied: scipy>=1.6.0 in c:\\users\\honzi\\appdata\\local\\packages\\pythonsoftwarefoundation.python.3.11_qbz5n2kfra8p0\\localcache\\local-packages\\python311\\site-packages (from scikit-learn) (1.13.0)\n",
      "Requirement already satisfied: joblib>=1.2.0 in c:\\users\\honzi\\appdata\\local\\packages\\pythonsoftwarefoundation.python.3.11_qbz5n2kfra8p0\\localcache\\local-packages\\python311\\site-packages (from scikit-learn) (1.4.2)\n",
      "Requirement already satisfied: threadpoolctl>=3.1.0 in c:\\users\\honzi\\appdata\\local\\packages\\pythonsoftwarefoundation.python.3.11_qbz5n2kfra8p0\\localcache\\local-packages\\python311\\site-packages (from scikit-learn) (3.5.0)\n"
     ]
    },
    {
     "name": "stderr",
     "output_type": "stream",
     "text": [
      "\n",
      "[notice] A new release of pip is available: 25.0.1 -> 25.1.1\n",
      "[notice] To update, run: C:\\Users\\honzi\\AppData\\Local\\Microsoft\\WindowsApps\\PythonSoftwareFoundation.Python.3.11_qbz5n2kfra8p0\\python.exe -m pip install --upgrade pip\n"
     ]
    },
    {
     "name": "stdout",
     "output_type": "stream",
     "text": [
      "Requirement already satisfied: pandas in c:\\users\\honzi\\appdata\\local\\packages\\pythonsoftwarefoundation.python.3.11_qbz5n2kfra8p0\\localcache\\local-packages\\python311\\site-packages (2.2.1)\n",
      "Requirement already satisfied: numpy<2,>=1.23.2 in c:\\users\\honzi\\appdata\\local\\packages\\pythonsoftwarefoundation.python.3.11_qbz5n2kfra8p0\\localcache\\local-packages\\python311\\site-packages (from pandas) (1.24.3)\n",
      "Requirement already satisfied: python-dateutil>=2.8.2 in c:\\users\\honzi\\appdata\\local\\packages\\pythonsoftwarefoundation.python.3.11_qbz5n2kfra8p0\\localcache\\local-packages\\python311\\site-packages (from pandas) (2.9.0.post0)\n",
      "Requirement already satisfied: pytz>=2020.1 in c:\\users\\honzi\\appdata\\local\\packages\\pythonsoftwarefoundation.python.3.11_qbz5n2kfra8p0\\localcache\\local-packages\\python311\\site-packages (from pandas) (2024.1)\n",
      "Requirement already satisfied: tzdata>=2022.7 in c:\\users\\honzi\\appdata\\local\\packages\\pythonsoftwarefoundation.python.3.11_qbz5n2kfra8p0\\localcache\\local-packages\\python311\\site-packages (from pandas) (2024.1)\n",
      "Requirement already satisfied: six>=1.5 in c:\\users\\honzi\\appdata\\local\\packages\\pythonsoftwarefoundation.python.3.11_qbz5n2kfra8p0\\localcache\\local-packages\\python311\\site-packages (from python-dateutil>=2.8.2->pandas) (1.16.0)\n"
     ]
    },
    {
     "name": "stderr",
     "output_type": "stream",
     "text": [
      "\n",
      "[notice] A new release of pip is available: 25.0.1 -> 25.1.1\n",
      "[notice] To update, run: C:\\Users\\honzi\\AppData\\Local\\Microsoft\\WindowsApps\\PythonSoftwareFoundation.Python.3.11_qbz5n2kfra8p0\\python.exe -m pip install --upgrade pip\n"
     ]
    },
    {
     "name": "stdout",
     "output_type": "stream",
     "text": [
      "Requirement already satisfied: numpy in c:\\users\\honzi\\appdata\\local\\packages\\pythonsoftwarefoundation.python.3.11_qbz5n2kfra8p0\\localcache\\local-packages\\python311\\site-packages (1.24.3)\n"
     ]
    },
    {
     "name": "stderr",
     "output_type": "stream",
     "text": [
      "\n",
      "[notice] A new release of pip is available: 25.0.1 -> 25.1.1\n",
      "[notice] To update, run: C:\\Users\\honzi\\AppData\\Local\\Microsoft\\WindowsApps\\PythonSoftwareFoundation.Python.3.11_qbz5n2kfra8p0\\python.exe -m pip install --upgrade pip\n"
     ]
    },
    {
     "name": "stdout",
     "output_type": "stream",
     "text": [
      "Requirement already satisfied: joblib in c:\\users\\honzi\\appdata\\local\\packages\\pythonsoftwarefoundation.python.3.11_qbz5n2kfra8p0\\localcache\\local-packages\\python311\\site-packages (1.4.2)"
     ]
    },
    {
     "name": "stderr",
     "output_type": "stream",
     "text": [
      "\n",
      "[notice] A new release of pip is available: 25.0.1 -> 25.1.1\n",
      "[notice] To update, run: C:\\Users\\honzi\\AppData\\Local\\Microsoft\\WindowsApps\\PythonSoftwareFoundation.Python.3.11_qbz5n2kfra8p0\\python.exe -m pip install --upgrade pip\n"
     ]
    },
    {
     "name": "stdout",
     "output_type": "stream",
     "text": [
      "\n",
      "Requirement already satisfied: matplotlib in c:\\users\\honzi\\appdata\\local\\packages\\pythonsoftwarefoundation.python.3.11_qbz5n2kfra8p0\\localcache\\local-packages\\python311\\site-packages (3.8.3)\n",
      "Requirement already satisfied: contourpy>=1.0.1 in c:\\users\\honzi\\appdata\\local\\packages\\pythonsoftwarefoundation.python.3.11_qbz5n2kfra8p0\\localcache\\local-packages\\python311\\site-packages (from matplotlib) (1.2.1)\n",
      "Requirement already satisfied: cycler>=0.10 in c:\\users\\honzi\\appdata\\local\\packages\\pythonsoftwarefoundation.python.3.11_qbz5n2kfra8p0\\localcache\\local-packages\\python311\\site-packages (from matplotlib) (0.12.1)\n",
      "Requirement already satisfied: fonttools>=4.22.0 in c:\\users\\honzi\\appdata\\local\\packages\\pythonsoftwarefoundation.python.3.11_qbz5n2kfra8p0\\localcache\\local-packages\\python311\\site-packages (from matplotlib) (4.50.0)\n",
      "Requirement already satisfied: kiwisolver>=1.3.1 in c:\\users\\honzi\\appdata\\local\\packages\\pythonsoftwarefoundation.python.3.11_qbz5n2kfra8p0\\localcache\\local-packages\\python311\\site-packages (from matplotlib) (1.4.5)\n",
      "Requirement already satisfied: numpy<2,>=1.21 in c:\\users\\honzi\\appdata\\local\\packages\\pythonsoftwarefoundation.python.3.11_qbz5n2kfra8p0\\localcache\\local-packages\\python311\\site-packages (from matplotlib) (1.24.3)\n",
      "Requirement already satisfied: packaging>=20.0 in c:\\users\\honzi\\appdata\\local\\packages\\pythonsoftwarefoundation.python.3.11_qbz5n2kfra8p0\\localcache\\local-packages\\python311\\site-packages (from matplotlib) (24.0)\n",
      "Requirement already satisfied: pillow>=8 in c:\\users\\honzi\\appdata\\local\\packages\\pythonsoftwarefoundation.python.3.11_qbz5n2kfra8p0\\localcache\\local-packages\\python311\\site-packages (from matplotlib) (10.3.0)\n",
      "Requirement already satisfied: pyparsing>=2.3.1 in c:\\users\\honzi\\appdata\\local\\packages\\pythonsoftwarefoundation.python.3.11_qbz5n2kfra8p0\\localcache\\local-packages\\python311\\site-packages (from matplotlib) (3.1.2)\n",
      "Requirement already satisfied: python-dateutil>=2.7 in c:\\users\\honzi\\appdata\\local\\packages\\pythonsoftwarefoundation.python.3.11_qbz5n2kfra8p0\\localcache\\local-packages\\python311\\site-packages (from matplotlib) (2.9.0.post0)\n",
      "Requirement already satisfied: six>=1.5 in c:\\users\\honzi\\appdata\\local\\packages\\pythonsoftwarefoundation.python.3.11_qbz5n2kfra8p0\\localcache\\local-packages\\python311\\site-packages (from python-dateutil>=2.7->matplotlib) (1.16.0)\n"
     ]
    },
    {
     "name": "stderr",
     "output_type": "stream",
     "text": [
      "\n",
      "[notice] A new release of pip is available: 25.0.1 -> 25.1.1\n",
      "[notice] To update, run: C:\\Users\\honzi\\AppData\\Local\\Microsoft\\WindowsApps\\PythonSoftwareFoundation.Python.3.11_qbz5n2kfra8p0\\python.exe -m pip install --upgrade pip\n"
     ]
    },
    {
     "name": "stdout",
     "output_type": "stream",
     "text": [
      "Requirement already satisfied: seaborn in c:\\users\\honzi\\appdata\\local\\packages\\pythonsoftwarefoundation.python.3.11_qbz5n2kfra8p0\\localcache\\local-packages\\python311\\site-packages (0.13.2)"
     ]
    },
    {
     "name": "stderr",
     "output_type": "stream",
     "text": [
      "\n",
      "[notice] A new release of pip is available: 25.0.1 -> 25.1.1\n",
      "[notice] To update, run: C:\\Users\\honzi\\AppData\\Local\\Microsoft\\WindowsApps\\PythonSoftwareFoundation.Python.3.11_qbz5n2kfra8p0\\python.exe -m pip install --upgrade pip\n"
     ]
    },
    {
     "name": "stdout",
     "output_type": "stream",
     "text": [
      "\n",
      "Requirement already satisfied: numpy!=1.24.0,>=1.20 in c:\\users\\honzi\\appdata\\local\\packages\\pythonsoftwarefoundation.python.3.11_qbz5n2kfra8p0\\localcache\\local-packages\\python311\\site-packages (from seaborn) (1.24.3)\n",
      "Requirement already satisfied: pandas>=1.2 in c:\\users\\honzi\\appdata\\local\\packages\\pythonsoftwarefoundation.python.3.11_qbz5n2kfra8p0\\localcache\\local-packages\\python311\\site-packages (from seaborn) (2.2.1)\n",
      "Requirement already satisfied: matplotlib!=3.6.1,>=3.4 in c:\\users\\honzi\\appdata\\local\\packages\\pythonsoftwarefoundation.python.3.11_qbz5n2kfra8p0\\localcache\\local-packages\\python311\\site-packages (from seaborn) (3.8.3)\n",
      "Requirement already satisfied: contourpy>=1.0.1 in c:\\users\\honzi\\appdata\\local\\packages\\pythonsoftwarefoundation.python.3.11_qbz5n2kfra8p0\\localcache\\local-packages\\python311\\site-packages (from matplotlib!=3.6.1,>=3.4->seaborn) (1.2.1)\n",
      "Requirement already satisfied: cycler>=0.10 in c:\\users\\honzi\\appdata\\local\\packages\\pythonsoftwarefoundation.python.3.11_qbz5n2kfra8p0\\localcache\\local-packages\\python311\\site-packages (from matplotlib!=3.6.1,>=3.4->seaborn) (0.12.1)\n",
      "Requirement already satisfied: fonttools>=4.22.0 in c:\\users\\honzi\\appdata\\local\\packages\\pythonsoftwarefoundation.python.3.11_qbz5n2kfra8p0\\localcache\\local-packages\\python311\\site-packages (from matplotlib!=3.6.1,>=3.4->seaborn) (4.50.0)\n",
      "Requirement already satisfied: kiwisolver>=1.3.1 in c:\\users\\honzi\\appdata\\local\\packages\\pythonsoftwarefoundation.python.3.11_qbz5n2kfra8p0\\localcache\\local-packages\\python311\\site-packages (from matplotlib!=3.6.1,>=3.4->seaborn) (1.4.5)\n",
      "Requirement already satisfied: packaging>=20.0 in c:\\users\\honzi\\appdata\\local\\packages\\pythonsoftwarefoundation.python.3.11_qbz5n2kfra8p0\\localcache\\local-packages\\python311\\site-packages (from matplotlib!=3.6.1,>=3.4->seaborn) (24.0)\n",
      "Requirement already satisfied: pillow>=8 in c:\\users\\honzi\\appdata\\local\\packages\\pythonsoftwarefoundation.python.3.11_qbz5n2kfra8p0\\localcache\\local-packages\\python311\\site-packages (from matplotlib!=3.6.1,>=3.4->seaborn) (10.3.0)\n",
      "Requirement already satisfied: pyparsing>=2.3.1 in c:\\users\\honzi\\appdata\\local\\packages\\pythonsoftwarefoundation.python.3.11_qbz5n2kfra8p0\\localcache\\local-packages\\python311\\site-packages (from matplotlib!=3.6.1,>=3.4->seaborn) (3.1.2)\n",
      "Requirement already satisfied: python-dateutil>=2.7 in c:\\users\\honzi\\appdata\\local\\packages\\pythonsoftwarefoundation.python.3.11_qbz5n2kfra8p0\\localcache\\local-packages\\python311\\site-packages (from matplotlib!=3.6.1,>=3.4->seaborn) (2.9.0.post0)\n",
      "Requirement already satisfied: pytz>=2020.1 in c:\\users\\honzi\\appdata\\local\\packages\\pythonsoftwarefoundation.python.3.11_qbz5n2kfra8p0\\localcache\\local-packages\\python311\\site-packages (from pandas>=1.2->seaborn) (2024.1)\n",
      "Requirement already satisfied: tzdata>=2022.7 in c:\\users\\honzi\\appdata\\local\\packages\\pythonsoftwarefoundation.python.3.11_qbz5n2kfra8p0\\localcache\\local-packages\\python311\\site-packages (from pandas>=1.2->seaborn) (2024.1)\n",
      "Requirement already satisfied: six>=1.5 in c:\\users\\honzi\\appdata\\local\\packages\\pythonsoftwarefoundation.python.3.11_qbz5n2kfra8p0\\localcache\\local-packages\\python311\\site-packages (from python-dateutil>=2.7->matplotlib!=3.6.1,>=3.4->seaborn) (1.16.0)\n",
      "Requirement already satisfied: lightgbm in c:\\users\\honzi\\appdata\\local\\packages\\pythonsoftwarefoundation.python.3.11_qbz5n2kfra8p0\\localcache\\local-packages\\python311\\site-packages (4.6.0)\n",
      "Requirement already satisfied: numpy>=1.17.0 in c:\\users\\honzi\\appdata\\local\\packages\\pythonsoftwarefoundation.python.3.11_qbz5n2kfra8p0\\localcache\\local-packages\\python311\\site-packages (from lightgbm) (1.24.3)\n",
      "Requirement already satisfied: scipy in c:\\users\\honzi\\appdata\\local\\packages\\pythonsoftwarefoundation.python.3.11_qbz5n2kfra8p0\\localcache\\local-packages\\python311\\site-packages (from lightgbm) (1.13.0)\n"
     ]
    },
    {
     "name": "stderr",
     "output_type": "stream",
     "text": [
      "\n",
      "[notice] A new release of pip is available: 25.0.1 -> 25.1.1\n",
      "[notice] To update, run: C:\\Users\\honzi\\AppData\\Local\\Microsoft\\WindowsApps\\PythonSoftwareFoundation.Python.3.11_qbz5n2kfra8p0\\python.exe -m pip install --upgrade pip\n"
     ]
    },
    {
     "name": "stdout",
     "output_type": "stream",
     "text": [
      "Requirement already satisfied: ucimlrepo in c:\\users\\honzi\\appdata\\local\\packages\\pythonsoftwarefoundation.python.3.11_qbz5n2kfra8p0\\localcache\\local-packages\\python311\\site-packages (0.0.7)\n",
      "Requirement already satisfied: pandas>=1.0.0 in c:\\users\\honzi\\appdata\\local\\packages\\pythonsoftwarefoundation.python.3.11_qbz5n2kfra8p0\\localcache\\local-packages\\python311\\site-packages (from ucimlrepo) (2.2.1)\n",
      "Requirement already satisfied: certifi>=2020.12.5 in c:\\users\\honzi\\appdata\\local\\packages\\pythonsoftwarefoundation.python.3.11_qbz5n2kfra8p0\\localcache\\local-packages\\python311\\site-packages (from ucimlrepo) (2023.7.22)\n",
      "Requirement already satisfied: numpy<2,>=1.23.2 in c:\\users\\honzi\\appdata\\local\\packages\\pythonsoftwarefoundation.python.3.11_qbz5n2kfra8p0\\localcache\\local-packages\\python311\\site-packages (from pandas>=1.0.0->ucimlrepo) (1.24.3)\n",
      "Requirement already satisfied: python-dateutil>=2.8.2 in c:\\users\\honzi\\appdata\\local\\packages\\pythonsoftwarefoundation.python.3.11_qbz5n2kfra8p0\\localcache\\local-packages\\python311\\site-packages (from pandas>=1.0.0->ucimlrepo) (2.9.0.post0)\n",
      "Requirement already satisfied: pytz>=2020.1 in c:\\users\\honzi\\appdata\\local\\packages\\pythonsoftwarefoundation.python.3.11_qbz5n2kfra8p0\\localcache\\local-packages\\python311\\site-packages (from pandas>=1.0.0->ucimlrepo) (2024.1)\n",
      "Requirement already satisfied: tzdata>=2022.7 in c:\\users\\honzi\\appdata\\local\\packages\\pythonsoftwarefoundation.python.3.11_qbz5n2kfra8p0\\localcache\\local-packages\\python311\\site-packages (from pandas>=1.0.0->ucimlrepo) (2024.1)\n",
      "Requirement already satisfied: six>=1.5 in c:\\users\\honzi\\appdata\\local\\packages\\pythonsoftwarefoundation.python.3.11_qbz5n2kfra8p0\\localcache\\local-packages\\python311\\site-packages (from python-dateutil>=2.8.2->pandas>=1.0.0->ucimlrepo) (1.16.0)\n"
     ]
    },
    {
     "name": "stderr",
     "output_type": "stream",
     "text": [
      "\n",
      "[notice] A new release of pip is available: 25.0.1 -> 25.1.1\n",
      "[notice] To update, run: C:\\Users\\honzi\\AppData\\Local\\Microsoft\\WindowsApps\\PythonSoftwareFoundation.Python.3.11_qbz5n2kfra8p0\\python.exe -m pip install --upgrade pip\n"
     ]
    }
   ],
   "source": [
    "!pip install ucimlrepo\n",
    "!pip install scikit-learn\n",
    "!pip install pandas\n",
    "!pip install numpy\n",
    "!pip install joblib\n",
    "!pip install matplotlib\n",
    "!pip install seaborn\n",
    "!pip install lightgbm\n",
    "!pip install ucimlrepo"
   ]
  },
  {
   "cell_type": "markdown",
   "id": "86ecd1ad",
   "metadata": {},
   "source": [
    "## **1** Regrese"
   ]
  },
  {
   "cell_type": "markdown",
   "id": "d06b767c",
   "metadata": {},
   "source": [
    "## **2** Klasifikace"
   ]
  },
  {
   "cell_type": "markdown",
   "id": "9c3fb807",
   "metadata": {},
   "source": [
    "Klasifikaci si ukážeme na jednoduchém datasetu z knihovny ucimlrepo. V tomto datasetu se budeme snažit odhadnout stáří abalonu, to je jakási mušle. Většina proměnných je číselných, jedinou kategorickou převedu bez dalšího vysvětlování na číselné hodnoty. Zkusíme několik různých algoritmů, které si předtím popíšeme. Nakonec naše algoritmy zhodnotíme a porovnáme mezi sebou."
   ]
  },
  {
   "cell_type": "code",
   "execution_count": 2,
   "id": "352a60fd",
   "metadata": {},
   "outputs": [],
   "source": [
    "import pandas as pd\n",
    "import numpy as np\n",
    "from ucimlrepo import fetch_ucirepo\n",
    "from sklearn.preprocessing import OneHotEncoder"
   ]
  },
  {
   "cell_type": "code",
   "execution_count": 6,
   "id": "68b58aaf",
   "metadata": {},
   "outputs": [
    {
     "data": {
      "text/html": [
       "<div>\n",
       "<style scoped>\n",
       "    .dataframe tbody tr th:only-of-type {\n",
       "        vertical-align: middle;\n",
       "    }\n",
       "\n",
       "    .dataframe tbody tr th {\n",
       "        vertical-align: top;\n",
       "    }\n",
       "\n",
       "    .dataframe thead th {\n",
       "        text-align: right;\n",
       "    }\n",
       "</style>\n",
       "<table border=\"1\" class=\"dataframe\">\n",
       "  <thead>\n",
       "    <tr style=\"text-align: right;\">\n",
       "      <th></th>\n",
       "      <th>Length</th>\n",
       "      <th>Diameter</th>\n",
       "      <th>Height</th>\n",
       "      <th>Whole_weight</th>\n",
       "      <th>Shucked_weight</th>\n",
       "      <th>Viscera_weight</th>\n",
       "      <th>Shell_weight</th>\n",
       "      <th>Rings</th>\n",
       "      <th>Sex_F</th>\n",
       "      <th>Sex_I</th>\n",
       "      <th>Sex_M</th>\n",
       "    </tr>\n",
       "  </thead>\n",
       "  <tbody>\n",
       "    <tr>\n",
       "      <th>0</th>\n",
       "      <td>0.455</td>\n",
       "      <td>0.365</td>\n",
       "      <td>0.095</td>\n",
       "      <td>0.5140</td>\n",
       "      <td>0.2245</td>\n",
       "      <td>0.1010</td>\n",
       "      <td>0.1500</td>\n",
       "      <td>15</td>\n",
       "      <td>0.0</td>\n",
       "      <td>0.0</td>\n",
       "      <td>1.0</td>\n",
       "    </tr>\n",
       "    <tr>\n",
       "      <th>1</th>\n",
       "      <td>0.350</td>\n",
       "      <td>0.265</td>\n",
       "      <td>0.090</td>\n",
       "      <td>0.2255</td>\n",
       "      <td>0.0995</td>\n",
       "      <td>0.0485</td>\n",
       "      <td>0.0700</td>\n",
       "      <td>7</td>\n",
       "      <td>0.0</td>\n",
       "      <td>0.0</td>\n",
       "      <td>1.0</td>\n",
       "    </tr>\n",
       "    <tr>\n",
       "      <th>2</th>\n",
       "      <td>0.530</td>\n",
       "      <td>0.420</td>\n",
       "      <td>0.135</td>\n",
       "      <td>0.6770</td>\n",
       "      <td>0.2565</td>\n",
       "      <td>0.1415</td>\n",
       "      <td>0.2100</td>\n",
       "      <td>9</td>\n",
       "      <td>1.0</td>\n",
       "      <td>0.0</td>\n",
       "      <td>0.0</td>\n",
       "    </tr>\n",
       "    <tr>\n",
       "      <th>3</th>\n",
       "      <td>0.440</td>\n",
       "      <td>0.365</td>\n",
       "      <td>0.125</td>\n",
       "      <td>0.5160</td>\n",
       "      <td>0.2155</td>\n",
       "      <td>0.1140</td>\n",
       "      <td>0.1550</td>\n",
       "      <td>10</td>\n",
       "      <td>0.0</td>\n",
       "      <td>0.0</td>\n",
       "      <td>1.0</td>\n",
       "    </tr>\n",
       "    <tr>\n",
       "      <th>4</th>\n",
       "      <td>0.330</td>\n",
       "      <td>0.255</td>\n",
       "      <td>0.080</td>\n",
       "      <td>0.2050</td>\n",
       "      <td>0.0895</td>\n",
       "      <td>0.0395</td>\n",
       "      <td>0.0550</td>\n",
       "      <td>7</td>\n",
       "      <td>0.0</td>\n",
       "      <td>1.0</td>\n",
       "      <td>0.0</td>\n",
       "    </tr>\n",
       "    <tr>\n",
       "      <th>...</th>\n",
       "      <td>...</td>\n",
       "      <td>...</td>\n",
       "      <td>...</td>\n",
       "      <td>...</td>\n",
       "      <td>...</td>\n",
       "      <td>...</td>\n",
       "      <td>...</td>\n",
       "      <td>...</td>\n",
       "      <td>...</td>\n",
       "      <td>...</td>\n",
       "      <td>...</td>\n",
       "    </tr>\n",
       "    <tr>\n",
       "      <th>4172</th>\n",
       "      <td>0.565</td>\n",
       "      <td>0.450</td>\n",
       "      <td>0.165</td>\n",
       "      <td>0.8870</td>\n",
       "      <td>0.3700</td>\n",
       "      <td>0.2390</td>\n",
       "      <td>0.2490</td>\n",
       "      <td>11</td>\n",
       "      <td>1.0</td>\n",
       "      <td>0.0</td>\n",
       "      <td>0.0</td>\n",
       "    </tr>\n",
       "    <tr>\n",
       "      <th>4173</th>\n",
       "      <td>0.590</td>\n",
       "      <td>0.440</td>\n",
       "      <td>0.135</td>\n",
       "      <td>0.9660</td>\n",
       "      <td>0.4390</td>\n",
       "      <td>0.2145</td>\n",
       "      <td>0.2605</td>\n",
       "      <td>10</td>\n",
       "      <td>0.0</td>\n",
       "      <td>0.0</td>\n",
       "      <td>1.0</td>\n",
       "    </tr>\n",
       "    <tr>\n",
       "      <th>4174</th>\n",
       "      <td>0.600</td>\n",
       "      <td>0.475</td>\n",
       "      <td>0.205</td>\n",
       "      <td>1.1760</td>\n",
       "      <td>0.5255</td>\n",
       "      <td>0.2875</td>\n",
       "      <td>0.3080</td>\n",
       "      <td>9</td>\n",
       "      <td>0.0</td>\n",
       "      <td>0.0</td>\n",
       "      <td>1.0</td>\n",
       "    </tr>\n",
       "    <tr>\n",
       "      <th>4175</th>\n",
       "      <td>0.625</td>\n",
       "      <td>0.485</td>\n",
       "      <td>0.150</td>\n",
       "      <td>1.0945</td>\n",
       "      <td>0.5310</td>\n",
       "      <td>0.2610</td>\n",
       "      <td>0.2960</td>\n",
       "      <td>10</td>\n",
       "      <td>1.0</td>\n",
       "      <td>0.0</td>\n",
       "      <td>0.0</td>\n",
       "    </tr>\n",
       "    <tr>\n",
       "      <th>4176</th>\n",
       "      <td>0.710</td>\n",
       "      <td>0.555</td>\n",
       "      <td>0.195</td>\n",
       "      <td>1.9485</td>\n",
       "      <td>0.9455</td>\n",
       "      <td>0.3765</td>\n",
       "      <td>0.4950</td>\n",
       "      <td>12</td>\n",
       "      <td>0.0</td>\n",
       "      <td>0.0</td>\n",
       "      <td>1.0</td>\n",
       "    </tr>\n",
       "  </tbody>\n",
       "</table>\n",
       "<p>4177 rows × 11 columns</p>\n",
       "</div>"
      ],
      "text/plain": [
       "      Length  Diameter  Height  Whole_weight  Shucked_weight  Viscera_weight  \\\n",
       "0      0.455     0.365   0.095        0.5140          0.2245          0.1010   \n",
       "1      0.350     0.265   0.090        0.2255          0.0995          0.0485   \n",
       "2      0.530     0.420   0.135        0.6770          0.2565          0.1415   \n",
       "3      0.440     0.365   0.125        0.5160          0.2155          0.1140   \n",
       "4      0.330     0.255   0.080        0.2050          0.0895          0.0395   \n",
       "...      ...       ...     ...           ...             ...             ...   \n",
       "4172   0.565     0.450   0.165        0.8870          0.3700          0.2390   \n",
       "4173   0.590     0.440   0.135        0.9660          0.4390          0.2145   \n",
       "4174   0.600     0.475   0.205        1.1760          0.5255          0.2875   \n",
       "4175   0.625     0.485   0.150        1.0945          0.5310          0.2610   \n",
       "4176   0.710     0.555   0.195        1.9485          0.9455          0.3765   \n",
       "\n",
       "      Shell_weight  Rings  Sex_F  Sex_I  Sex_M  \n",
       "0           0.1500     15    0.0    0.0    1.0  \n",
       "1           0.0700      7    0.0    0.0    1.0  \n",
       "2           0.2100      9    1.0    0.0    0.0  \n",
       "3           0.1550     10    0.0    0.0    1.0  \n",
       "4           0.0550      7    0.0    1.0    0.0  \n",
       "...            ...    ...    ...    ...    ...  \n",
       "4172        0.2490     11    1.0    0.0    0.0  \n",
       "4173        0.2605     10    0.0    0.0    1.0  \n",
       "4174        0.3080      9    0.0    0.0    1.0  \n",
       "4175        0.2960     10    1.0    0.0    0.0  \n",
       "4176        0.4950     12    0.0    0.0    1.0  \n",
       "\n",
       "[4177 rows x 11 columns]"
      ]
     },
     "execution_count": 6,
     "metadata": {},
     "output_type": "execute_result"
    }
   ],
   "source": [
    "data = fetch_ucirepo(id=1)\n",
    "\n",
    "X = data.data.features\n",
    "y = data.data.targets\n",
    "\n",
    "df = pd.concat([X, y], axis=1, join=\"inner\")\n",
    "df\n",
    "\n",
    "encoder = OneHotEncoder()\n",
    "sex_encoded = encoder.fit_transform(df[['Sex']])\n",
    "df = pd.concat([df.drop('Sex', axis=1), pd.DataFrame(data=sex_encoded.toarray(), columns=encoder.get_feature_names_out())], axis=1)\n",
    "\n",
    "df"
   ]
  },
  {
   "cell_type": "markdown",
   "id": "85e4e415",
   "metadata": {},
   "source": [
    "![Abalone](abalone.jpg)"
   ]
  },
  {
   "cell_type": "markdown",
   "id": "2d8b7ff5",
   "metadata": {},
   "source": [
    "Datová sada by neměla obsahovat ani prázdné hodnoty ani duplicitní řádky, takže o to se starat nemusíme. Cílovou proměnnou už máme také převedenou na čísla, všechny fíčury jsou také spojité reálné hodnoty. Později si tedy maximálně hodnoty normalizujeme či standardizujeme a podíváme se na ně pomocí grafu.                     \n",
    "Ještě před tím, než se podíváme na jednotlivé modely k dispozici, musíme si datovou sadu rozdělit na trénovací, validační a testovací data."
   ]
  },
  {
   "cell_type": "code",
   "execution_count": 8,
   "id": "721b3311",
   "metadata": {},
   "outputs": [],
   "source": [
    "from sklearn.model_selection import train_test_split\n",
    "\n",
    "X = df.drop('Rings', axis=1)\n",
    "y = df['Rings']\n",
    "\n",
    "X_train, X_test, y_train, y_test = train_test_split(X, y, test_size=0.2, random_state=42)\n",
    "X_train, X_val, y_train, y_val = train_test_split(X_train, y_train, test_size=0.2, random_state=42)"
   ]
  },
  {
   "cell_type": "markdown",
   "id": "ef40aff6",
   "metadata": {},
   "source": [
    "Podíváme se teď na různé modely pro klasifikaci a každý z nich si vytrénujeme, vyladíme pro něj hyperparametry a zhodnotíme si ho. Modely nakonec porovnáme mezi sebou."
   ]
  },
  {
   "cell_type": "markdown",
   "id": "bd5e7cf5",
   "metadata": {},
   "source": [
    "### Trénování"
   ]
  },
  {
   "cell_type": "markdown",
   "id": "ffae7d87",
   "metadata": {},
   "source": [
    "#### Logistická regrese"
   ]
  },
  {
   "cell_type": "markdown",
   "id": "c576763e",
   "metadata": {},
   "source": [
    "#### Rozhodovací strom"
   ]
  },
  {
   "cell_type": "markdown",
   "id": "b197e000",
   "metadata": {},
   "source": [
    "Rozhodovací stromy jsou velmi oblíbeným algoritmem strojového učení. V dnešní době jsou v rámci klasického strojového učení algoritmy postavené na nich vlastně jediné, které se stále využívají a dovedou alespoň trochu konkurovat neuronovým sítím. My si zde vytrénujeme klasický rozhodovací strom, nicméně metody založené na gradient boostingu jsou dnes mnohem oblíbenější a účinnější.                \n",
    "Jak rozhodovací strom funguje? Vytváří uzly. Každý z nich se jednoduše ptá, zde je nějaká fíčura větší či menší než nějaký treshold. Podle toho ji vyšle do pravého uzlu, či do levého uzlu. Jakmile dojde někam do listu, vybere nejčastější třídu, která zde při trénování spadla, a tu prohlásí za cílovou třídu tohoto listu."
   ]
  },
  {
   "cell_type": "markdown",
   "id": "011fde3a",
   "metadata": {},
   "source": [
    "![Decision Tree Classifier](decision_tree_classifier.jpg)"
   ]
  },
  {
   "cell_type": "code",
   "execution_count": 37,
   "id": "c4cf52e2",
   "metadata": {},
   "outputs": [],
   "source": [
    "from sklearn.tree import DecisionTreeClassifier\n",
    "\n",
    "decisionTree = DecisionTreeClassifier()\n",
    "decisionTree.fit(X_train, y_train)\n",
    "decisionTree_predictions = decisionTree.predict(X_test)"
   ]
  },
  {
   "cell_type": "markdown",
   "id": "0f3f8b8b",
   "metadata": {},
   "source": [
    "#### Náhodný les"
   ]
  },
  {
   "cell_type": "markdown",
   "id": "b5ff422c",
   "metadata": {},
   "source": [
    "Protože složitější algoritmy strojového učení nejsou deterministické, může při opakovaném spuštění vzniknout jiný strom. Toho se využívá v případě náhodného lesa, který je příkladem tzv. ensemble algoritmu. Tedy takového, který hodnotitelů vytvoří více a výstup je v tomto případě nejčastější hodnota, kterou stromy odhadovaly."
   ]
  },
  {
   "cell_type": "markdown",
   "id": "2674baa7",
   "metadata": {},
   "source": [
    "![Random Forest Classifier](random_forest_classifier.gif)"
   ]
  },
  {
   "cell_type": "code",
   "execution_count": 36,
   "id": "df87f53c",
   "metadata": {},
   "outputs": [],
   "source": [
    "from sklearn.ensemble import RandomForestClassifier\n",
    "\n",
    "randomForest = RandomForestClassifier()\n",
    "randomForest.fit(X_train, y_train)\n",
    "randomForest_predictions = randomForest.predict(X_test)"
   ]
  },
  {
   "cell_type": "markdown",
   "id": "20068348",
   "metadata": {},
   "source": [
    "#### Support Vector Machine (SVM)"
   ]
  },
  {
   "cell_type": "markdown",
   "id": "cc7b0f13",
   "metadata": {},
   "source": [
    "#### K nejbližších sousedů (KNN)"
   ]
  },
  {
   "cell_type": "markdown",
   "id": "4b9e1ab0",
   "metadata": {},
   "source": [
    "Algoritmus KNN funguje zhruba následovně. Při trénování si vytvoří mapku tránovacích dat v hyperprostoru. Když pak zařazuje nová data, prostě je do tohoto prostoru umístí a spočítá vzdálenost od přesně daného počtu bodů. Podle toho, ke které třídě je nejblíže, je zařazen."
   ]
  },
  {
   "cell_type": "markdown",
   "id": "4da37b26",
   "metadata": {},
   "source": [
    "![KNN](knn.jpg)"
   ]
  },
  {
   "cell_type": "markdown",
   "id": "cf263dcc",
   "metadata": {},
   "source": [
    "#### LightGBM"
   ]
  },
  {
   "cell_type": "markdown",
   "id": "5f70b163",
   "metadata": {},
   "source": [
    "### Zhodnocení modelu"
   ]
  },
  {
   "cell_type": "markdown",
   "id": "99aa19ec",
   "metadata": {},
   "source": [
    "Máme spoustu metrik určených k hodnocení našeho modelu. Prvním z nich, ačkoliv to není tak úplně metrika, je tzv. konfuzní matice. Ta zobrazuje počty správně a špatně zařazených tříd. Zde je obrázek takové matice pro binární klasifikaci. Máme-li více tříd, pro každou v matici přibyde sloupec a řádek."
   ]
  },
  {
   "cell_type": "markdown",
   "id": "877cfbeb",
   "metadata": {},
   "source": [
    "![Confusion Matrix](confusion_matrix.png)"
   ]
  },
  {
   "cell_type": "markdown",
   "id": "f932a1e3",
   "metadata": {},
   "source": [
    "Další klasickou metrikou je Accuracy (Přesnost). Tu lze z konfuzní matice spočítat následujícím způsobem:"
   ]
  },
  {
   "cell_type": "markdown",
   "id": "c30f90a0",
   "metadata": {},
   "source": [
    "![Accuracy](accuracy.png)"
   ]
  },
  {
   "cell_type": "markdown",
   "id": "4011325e",
   "metadata": {},
   "source": [
    "Tedy je to poměr mezi správně začleněnými třídami a všemi třídami. Dovede být dobrou metrikou, nicméně naráží na zásadní problém, nevyváženost tříd. Pokud bychom zkoumali jev, který je docela vzácný, a poměr našich tříd by byl třeba 1:10, model by mohl všechno zařadit do většinové třídy a stále by měl dobrou accuracy.                     \n",
    "V takových případech se hodí jiná metrika, precision. Precision kouká na to, jak spolehlivě dovede náš model odhadnout správnou třídu. Ku příkladu, měli bychom dataset a rozhodovali bychom se, zda má dotyčný rakovinu nebo ne. Úplně nechceme na chemošku posílat někoho, kdo rakovinu nemá. Je tak pro nás důležitý precision, protože zohledňuje, jak je si model jistý tím, když o někom řekne, že rakovinu má.               \n",
    "Velmi krásně by to bylo vidět např. u datasetu, kde by byly od druhé třídy jen 3 instance třeba ze 100. Náš model by vše zařadil do většinové třídy, jeho accuracy by bylo 97%, 97 ze 100 zařadil správně. Nicméně jeho precision bude 0%. Vzorec pro výpočet precisionu je zde:"
   ]
  },
  {
   "cell_type": "markdown",
   "id": "bbc15427",
   "metadata": {},
   "source": [
    "![Precision](precision.png)"
   ]
  },
  {
   "cell_type": "markdown",
   "id": "e3f8d53b",
   "metadata": {},
   "source": [
    "Existuje také metrika, které říkáme recall (citlivost modelu). Měří, kolik z instancí třídy model skutečně odhalil. Opět má stejný problém jako accuracy. Pokud náš model všechno zařadí do jedné třídy, recall může být 100%, náš model skutečně odhalil všechno. Ale to, že tam také zařadil všechno, už recall nezohledňuje. Recall chceme využít, je-li pro nás důležité, aby všechny instance byly opravdu odhaleny, ale v případě chyby se svět nezboří. Např. v bezpečnosti chceme raději vědět všechno, ačkoliv to může být planý poplach. Tady je vzoreček:"
   ]
  },
  {
   "cell_type": "markdown",
   "id": "20fe2683",
   "metadata": {},
   "source": [
    "![Recall](recall.png)"
   ]
  },
  {
   "cell_type": "markdown",
   "id": "15595994",
   "metadata": {},
   "source": [
    "Jak vidíme, jedna metrika nikdy nestačí. Proto je důležité, abychom využívali nejlépe všechn najednou. Existují metriky, které zohledňují i precision i recall zároveň. Třeba tzv. F1 score. To je harmonický průměr mezi recall a precision. Protože je prakticky těžko interpretovatelný, využívá se např. při porovnávání modelů. Zde vzorec:"
   ]
  },
  {
   "cell_type": "markdown",
   "id": "e3131b36",
   "metadata": {},
   "source": [
    "![F1 Score](f1_score.jpg)"
   ]
  },
  {
   "cell_type": "markdown",
   "id": "1117afee",
   "metadata": {},
   "source": [
    "F score se dá i zobecnit podle toho, jakou zvolíme váhu. Je to tzv. f-beta score. F0.5 třeba znamená, že precision je 4x důležitější než recall. F2 to má naopak. Můžeme si tedy naše porovnávácí skóre upravovat dle našich potřeb.                        \n",
    "Máme-li vícetřídní klasifikaci, můžeme si ještě vybírat mezi tzv. micro a macro metrikou, popř. weighted. Micro je v podstatě naše klasické F1 skóre (popř. jiná metrika, nezávisí na tom). Sečtou se všechny správně klasifikované a vydělí se to všemi klasifikovanými. Obojí nezávisle na třídě."
   ]
  },
  {
   "cell_type": "markdown",
   "id": "6870733a",
   "metadata": {},
   "source": [
    "![Micro F1](f1_micro.jpg)"
   ]
  },
  {
   "cell_type": "markdown",
   "id": "efa6c729",
   "metadata": {},
   "source": [
    "Macro už je trochu chytřejší. Spočítá danou metriku pro každou třídu a pak je zprůměruje."
   ]
  },
  {
   "cell_type": "markdown",
   "id": "12391c13",
   "metadata": {},
   "source": [
    "![Macro F1](macro_f1.jpg)"
   ]
  },
  {
   "cell_type": "markdown",
   "id": "d4947a56",
   "metadata": {},
   "source": [
    "Nakonec. Když chceme zohlednit i to, že naše třídy jsou nevyvážené, musíme jednotlivým třídám přidat váhu na základě jejich četnosti."
   ]
  },
  {
   "cell_type": "markdown",
   "id": "8975afd9",
   "metadata": {},
   "source": [
    "![Weighted F1](wighted_f1.jpg)"
   ]
  },
  {
   "cell_type": "code",
   "execution_count": 39,
   "id": "2fc18433",
   "metadata": {},
   "outputs": [],
   "source": [
    "from sklearn.metrics import accuracy_score, precision_score, recall_score, f1_score, confusion_matrix\n",
    "import matplotlib.pyplot as plt\n",
    "import seaborn as sns"
   ]
  },
  {
   "cell_type": "markdown",
   "id": "a5ed503c",
   "metadata": {},
   "source": [
    "#### Logistická regrese"
   ]
  },
  {
   "cell_type": "markdown",
   "id": "25946e41",
   "metadata": {},
   "source": [
    "#### Rozhodovací strom"
   ]
  },
  {
   "cell_type": "code",
   "execution_count": null,
   "id": "4256fff8",
   "metadata": {},
   "outputs": [
    {
     "data": {
      "text/plain": [
       "0.2069377990430622"
      ]
     },
     "execution_count": 12,
     "metadata": {},
     "output_type": "execute_result"
    }
   ],
   "source": [
    "accuracy_score(y_test, decisionTree_predictions)"
   ]
  },
  {
   "cell_type": "code",
   "execution_count": 23,
   "id": "89d93eeb",
   "metadata": {},
   "outputs": [
    {
     "data": {
      "text/plain": [
       "0.2069377990430622"
      ]
     },
     "metadata": {},
     "output_type": "display_data"
    },
    {
     "data": {
      "text/plain": [
       "0.14188328887132085"
      ]
     },
     "metadata": {},
     "output_type": "display_data"
    },
    {
     "data": {
      "text/plain": [
       "0.20767083343018758"
      ]
     },
     "execution_count": 23,
     "metadata": {},
     "output_type": "execute_result"
    }
   ],
   "source": [
    "display(precision_score(y_test, decisionTree_predictions, average='micro', zero_division=0.0))\n",
    "display(precision_score(y_test, decisionTree_predictions, average='macro', zero_division=0.0))\n",
    "precision_score(y_test, decisionTree_predictions, average='weighted', zero_division=0.0)"
   ]
  },
  {
   "cell_type": "code",
   "execution_count": null,
   "id": "a1f19876",
   "metadata": {},
   "outputs": [
    {
     "data": {
      "text/plain": [
       "0.2069377990430622"
      ]
     },
     "metadata": {},
     "output_type": "display_data"
    },
    {
     "data": {
      "text/plain": [
       "0.16399053460650703"
      ]
     },
     "metadata": {},
     "output_type": "display_data"
    },
    {
     "data": {
      "text/plain": [
       "0.2069377990430622"
      ]
     },
     "execution_count": 20,
     "metadata": {},
     "output_type": "execute_result"
    }
   ],
   "source": [
    "display(recall_score(y_test, decisionTree_predictions, average='micro'))\n",
    "display(recall_score(y_test, decisionTree_predictions, average='macro'))\n",
    "recall_score(y_test, decisionTree_predictions, average='weighted')"
   ]
  },
  {
   "cell_type": "code",
   "execution_count": 24,
   "id": "3e81af0a",
   "metadata": {},
   "outputs": [
    {
     "data": {
      "text/plain": [
       "0.2069377990430622"
      ]
     },
     "metadata": {},
     "output_type": "display_data"
    },
    {
     "data": {
      "text/plain": [
       "0.1475438404617056"
      ]
     },
     "metadata": {},
     "output_type": "display_data"
    },
    {
     "data": {
      "text/plain": [
       "0.20499961358144034"
      ]
     },
     "execution_count": 24,
     "metadata": {},
     "output_type": "execute_result"
    }
   ],
   "source": [
    "display(f1_score(y_test, decisionTree_predictions, average='micro'))\n",
    "display(f1_score(y_test, decisionTree_predictions, average='macro'))\n",
    "f1_score(y_test, decisionTree_predictions, average='weighted')"
   ]
  },
  {
   "cell_type": "code",
   "execution_count": 41,
   "id": "3df01307",
   "metadata": {},
   "outputs": [
    {
     "data": {
      "image/png": "[encoded data removed]",
      "text/plain": [
       "<Figure size 1000x800 with 2 Axes>"
      ]
     },
     "metadata": {},
     "output_type": "display_data"
    }
   ],
   "source": [
    "matrix = confusion_matrix(y_test, decisionTree_predictions)\n",
    "\n",
    "plt.figure(figsize=(10, 8))\n",
    "sns.heatmap(matrix, cmap='Blues', annot=True)\n",
    "plt.show()"
   ]
  },
  {
   "cell_type": "markdown",
   "id": "df293533",
   "metadata": {},
   "source": [
    "#### Náhodný les"
   ]
  },
  {
   "cell_type": "code",
   "execution_count": 29,
   "id": "d74c5b57",
   "metadata": {},
   "outputs": [
    {
     "data": {
      "text/plain": [
       "0.2607655502392344"
      ]
     },
     "execution_count": 29,
     "metadata": {},
     "output_type": "execute_result"
    }
   ],
   "source": [
    "accuracy_score(y_test, randomForest_predictions)"
   ]
  },
  {
   "cell_type": "code",
   "execution_count": 30,
   "id": "0c62509c",
   "metadata": {},
   "outputs": [
    {
     "data": {
      "text/plain": [
       "0.2607655502392344"
      ]
     },
     "metadata": {},
     "output_type": "display_data"
    },
    {
     "data": {
      "text/plain": [
       "0.15347324527941192"
      ]
     },
     "metadata": {},
     "output_type": "display_data"
    },
    {
     "data": {
      "text/plain": [
       "0.24667924401912197"
      ]
     },
     "execution_count": 30,
     "metadata": {},
     "output_type": "execute_result"
    }
   ],
   "source": [
    "display(precision_score(y_test, randomForest_predictions, average='micro', zero_division=0.0))\n",
    "display(precision_score(y_test, randomForest_predictions, average='macro', zero_division=0.0))\n",
    "precision_score(y_test, randomForest_predictions, average='weighted', zero_division=0.0)"
   ]
  },
  {
   "cell_type": "code",
   "execution_count": 31,
   "id": "651cb7ef",
   "metadata": {},
   "outputs": [
    {
     "data": {
      "text/plain": [
       "0.2607655502392344"
      ]
     },
     "metadata": {},
     "output_type": "display_data"
    },
    {
     "data": {
      "text/plain": [
       "0.1526215084323243"
      ]
     },
     "metadata": {},
     "output_type": "display_data"
    },
    {
     "data": {
      "text/plain": [
       "0.2607655502392344"
      ]
     },
     "execution_count": 31,
     "metadata": {},
     "output_type": "execute_result"
    }
   ],
   "source": [
    "display(recall_score(y_test, randomForest_predictions, average='micro'))\n",
    "display(recall_score(y_test, randomForest_predictions, average='macro'))\n",
    "recall_score(y_test, randomForest_predictions, average='weighted')"
   ]
  },
  {
   "cell_type": "code",
   "execution_count": 32,
   "id": "0c6e70cc",
   "metadata": {},
   "outputs": [
    {
     "data": {
      "text/plain": [
       "0.2607655502392344"
      ]
     },
     "metadata": {},
     "output_type": "display_data"
    },
    {
     "data": {
      "text/plain": [
       "0.14778480506592945"
      ]
     },
     "metadata": {},
     "output_type": "display_data"
    },
    {
     "data": {
      "text/plain": [
       "0.24908738619693616"
      ]
     },
     "execution_count": 32,
     "metadata": {},
     "output_type": "execute_result"
    }
   ],
   "source": [
    "display(f1_score(y_test, randomForest_predictions, average='micro'))\n",
    "display(f1_score(y_test, randomForest_predictions, average='macro'))\n",
    "f1_score(y_test, randomForest_predictions, average='weighted')"
   ]
  },
  {
   "cell_type": "code",
   "execution_count": 42,
   "id": "11e66027",
   "metadata": {},
   "outputs": [
    {
     "data": {
      "image/png": "[encoded data removed]",
      "text/plain": [
       "<Figure size 1000x800 with 2 Axes>"
      ]
     },
     "metadata": {},
     "output_type": "display_data"
    }
   ],
   "source": [
    "matrix = confusion_matrix(y_test, randomForest_predictions)\n",
    "\n",
    "plt.figure(figsize=(10, 8))\n",
    "sns.heatmap(matrix, cmap='Blues', annot=True)\n",
    "plt.show()"
   ]
  },
  {
   "cell_type": "markdown",
   "id": "f6a70ad0",
   "metadata": {},
   "source": [
    "#### Support Vector Machine (SVM)"
   ]
  },
  {
   "cell_type": "markdown",
   "id": "d467d413",
   "metadata": {},
   "source": [
    "#### K nejbližších sousedů (KNN)"
   ]
  },
  {
   "cell_type": "markdown",
   "id": "65418ec0",
   "metadata": {},
   "source": [
    "#### LightGBM"
   ]
  },
  {
   "cell_type": "markdown",
   "id": "0ea51834",
   "metadata": {},
   "source": [
    "### Ladění hyperparametrů"
   ]
  },
  {
   "cell_type": "markdown",
   "id": "4cf74697",
   "metadata": {},
   "source": [
    "#### Logistická regrese"
   ]
  },
  {
   "cell_type": "markdown",
   "id": "bd30fe3e",
   "metadata": {},
   "source": [
    "#### Rozhodovací strom"
   ]
  },
  {
   "cell_type": "markdown",
   "id": "41a01320",
   "metadata": {},
   "source": [
    "#### Náhodný les"
   ]
  },
  {
   "cell_type": "markdown",
   "id": "3ed9d626",
   "metadata": {},
   "source": [
    "#### Support Vector Machine (SVM)"
   ]
  },
  {
   "cell_type": "markdown",
   "id": "32236898",
   "metadata": {},
   "source": [
    "#### K nejbližších sousedů (KNN)"
   ]
  },
  {
   "cell_type": "markdown",
   "id": "9aff7347",
   "metadata": {},
   "source": [
    "#### LightGBM"
   ]
  }
 ],
 "metadata": {
  "kernelspec": {
   "display_name": "Python 3",
   "language": "python",
   "name": "python3"
  },
  "language_info": {
   "codemirror_mode": {
    "name": "ipython",
    "version": 3
   },
   "file_extension": ".py",
   "mimetype": "text/x-python",
   "name": "python",
   "nbconvert_exporter": "python",
   "pygments_lexer": "ipython3",
   "version": "3.11.9"
  }
 },
 "nbformat": 4,
 "nbformat_minor": 5
}
