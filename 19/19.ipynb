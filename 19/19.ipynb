{
 "cells": [
  {
   "cell_type": "markdown",
   "id": "d15bbcd9",
   "metadata": {},
   "source": [
    "# Strojové učení s využitím umělých neuronových sítí"
   ]
  },
  {
   "cell_type": "markdown",
   "id": "559195a2",
   "metadata": {},
   "source": [
    "## Úvod"
   ]
  },
  {
   "cell_type": "markdown",
   "id": "dbf65340",
   "metadata": {},
   "source": [
    "Strojové učení lze dělat v podstatě dvěma způsoby. Existují klasické regresní a klasifikační modely, většinu z nich jsme si představili v minulé otázce. Druhou možností jsou tzv. neuronové sítě. Neuronové sítě se snaží napodobit biologickou strukturu neuronu a jejich spojení."
   ]
  },
  {
   "cell_type": "markdown",
   "id": "59ba2d8b",
   "metadata": {},
   "source": [
    "### Knihovny"
   ]
  },
  {
   "cell_type": "code",
   "execution_count": null,
   "id": "fb22ab0c",
   "metadata": {},
   "outputs": [],
   "source": [
    "!pip install tensorflow\n",
    "!pip install keras\n",
    "!pip install numpy\n",
    "!pip install pandas\n",
    "!pip install sklearn\n",
    "!pip install matplotlib\n",
    "!pip install seaborn"
   ]
  },
  {
   "cell_type": "markdown",
   "id": "ea4462d4",
   "metadata": {},
   "source": [
    "## Model neuronu, základní principy a myšlenky"
   ]
  },
  {
   "cell_type": "markdown",
   "id": "04a7d673",
   "metadata": {},
   "source": [
    "![Neuron](neuron.png)"
   ]
  },
  {
   "cell_type": "markdown",
   "id": "db589621",
   "metadata": {},
   "source": [
    "Základní model neuronu vypadá nějak takto. Má nějaké vstupy. Každý vstup má svou váhu. Neuron následně udělá linární kombinaci vstupů. To zjednodušeně znamená, že je sečte. K tomu přičte tzv. bias. Podobně jak třeba u lineární fce koeficient *b*.                  \n",
    "Kdybychom ale takto neuron nechali, nedovedl by modelovat jiné než lineární závislosti. V podstatě by celá neuronová síť zredukovala na jednu linerání fci. Abychom do modelu zavedli nelinearitu, musíme přidat aktivační fci. Takových fcí může být hned několik a my si představíme pár základních."
   ]
  },
  {
   "cell_type": "markdown",
   "id": "84143d00",
   "metadata": {},
   "source": [
    "**Tanh**, neboli hyperbolický tangens. Tato fce přiřadí hodnoty od -1 do 1. Vypadá následovně:"
   ]
  },
  {
   "cell_type": "markdown",
   "id": "beb19b5c",
   "metadata": {},
   "source": [
    "![Tanh](tanh.svg)"
   ]
  },
  {
   "cell_type": "markdown",
   "id": "855f61ee",
   "metadata": {},
   "source": [
    "**Sigmoid** je fce, která se typicky využívá pro binární klasifikaci. Vrací pravděpodobnost nějakého jevu, tedy hodnoty od 0 do 1."
   ]
  },
  {
   "cell_type": "markdown",
   "id": "61fd5f2f",
   "metadata": {},
   "source": [
    "![Sigmoid](sigmoid.svg)"
   ]
  },
  {
   "cell_type": "markdown",
   "id": "6380aa9e",
   "metadata": {},
   "source": [
    "**ReLU** je velmi oblíbená fce. Vezme maximum z nuly a vloženého čísla."
   ]
  },
  {
   "cell_type": "markdown",
   "id": "2fb0026c",
   "metadata": {},
   "source": [
    "![ReLU](relu.png)"
   ]
  },
  {
   "cell_type": "markdown",
   "id": "17f16546",
   "metadata": {},
   "source": [
    "Lze použít i čistě lineární fci. Pro klasifikaci více třid se využívá Softmax. Tato fce vrací pravděpodobnostní rozdělení pro každou třídu"
   ]
  },
  {
   "cell_type": "markdown",
   "id": "be2fcf97",
   "metadata": {},
   "source": [
    "Stejně jako u klasického strojového učení si nadefinujeme ztrátovou fci, kterou se znažíme vylepšit. Využívá se k tomu tzv. zpětná propagace chyby. Model se tedy dovede tímto způsobem učit.Vše, co dělá, je, že upravuje své váhy."
   ]
  },
  {
   "cell_type": "markdown",
   "id": "9acbfca1",
   "metadata": {},
   "source": [
    "### Postavení neuronové sítě"
   ]
  },
  {
   "cell_type": "markdown",
   "id": "119eefba",
   "metadata": {},
   "source": [
    "Vysvětlíme si princip tvorby neuronové sítě pomocí knihovny Keras. Tvoříme je postupně pomocí jednotlivých vrstev. Vrstev máme několik. Dense je plně propojená vrstva. Input je vstupní vrstva. Dropout je vrstva, která náhodně vypíná některé neurony. Pomáhá s přeučením.                   \n",
    "Z knihovny keras využíváme model Sequential"
   ]
  },
  {
   "cell_type": "code",
   "execution_count": null,
   "id": "f9028d8c",
   "metadata": {},
   "outputs": [],
   "source": [
    "import tensorflow as tf\n",
    "from keras.models import Sequential"
   ]
  }
 ],
 "metadata": {
  "language_info": {
   "name": "python"
  }
 },
 "nbformat": 4,
 "nbformat_minor": 5
}
